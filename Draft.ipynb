{
 "cells": [
  {
   "cell_type": "markdown",
   "metadata": {},
   "source": [
    "# Airbnb Project"
   ]
  },
  {
   "cell_type": "markdown",
   "metadata": {},
   "source": [
    "## Import Needed Libraries"
   ]
  },
  {
   "cell_type": "code",
   "execution_count": 1,
   "metadata": {},
   "outputs": [],
   "source": [
    "import pandas as pd\n",
    "import numpy as np\n",
    "import matplotlib.pyplot as plt\n",
    "import seaborn as sns\n",
    "import scipy.stats as stats\n",
    "import statsmodels.formula.api as smf\n",
    "import operator\n",
    "from math import hypot\n",
    "from sklearn.linear_model import LinearRegression\n",
    "from sklearn.preprocessing import StandardScaler\n",
    "from sklearn.model_selection import train_test_split\n",
    "\n",
    "pd.set_option('display.max_columns', None)"
   ]
  },
  {
   "cell_type": "markdown",
   "metadata": {},
   "source": [
    "## Data Cleaning"
   ]
  },
  {
   "cell_type": "markdown",
   "metadata": {},
   "source": [
    "#### Data Cleaning formulas we will use\n"
   ]
  },
  {
   "cell_type": "code",
   "execution_count": 2,
   "metadata": {},
   "outputs": [],
   "source": [
    "properties = ['Apartment', 'House', 'Condomminium', 'Townhouse', 'Loft', 'Other']\n",
    "def property_grouping(p):\n",
    "    '''\n",
    "    Given property type, if it is not an apartment, house, condo, townhouse, loft, or\n",
    "    labeled as 'Other', set as 'Other'\n",
    "    '''\n",
    "    if p not in properties:\n",
    "        p = 'Other'\n",
    "    return p\n",
    "\n",
    "def make_dummies(df):\n",
    "    '''\n",
    "    Take column of categories and make dummies in the dataset.\n",
    "    Drop the original columns\n",
    "    '''\n",
    "    columns = list(df.columns)\n",
    "    for column in columns:\n",
    "        dummies = pd.get_dummies(df[column])\n",
    "        df = df.join(dummies)\n",
    "    df.columns = df.columns.str.replace(' ', '_')\n",
    "    df.columns = df.columns.str.replace('/','_')\n",
    "    df.columns = df.columns.str.replace('-', '_')\n",
    "    df.drop(columns=columns,inplace=True)\n",
    "    return df"
   ]
  },
  {
   "cell_type": "markdown",
   "metadata": {},
   "source": [
    "#### Calculating Distance\n",
    "There are 6 cities in the dataset. We are setting the coordinates for the downtown of each city.\n",
    "Then we calculate the distance of each Airbnb from downtown."
   ]
  },
  {
   "cell_type": "code",
   "execution_count": 3,
   "metadata": {},
   "outputs": [],
   "source": [
    "lat_long = {'SF': {'lat': 37.7749, 'long': -122.4194},\n",
    "            'Chicago': {'lat': 41.8781, 'long': -87.6298},\n",
    "            'DC': {'lat': 38.9072, 'long': -77.0369},\n",
    "            'LA': {'lat': 34.0522, 'long': -118.2437},\n",
    "            'Boston': {'lat': 42.3601, 'long': -71.0589},\n",
    "            'NYC': {'lat': 40.7128, 'long': -74.0060}}\n",
    "\n",
    "def get_distance(row):\n",
    "    '''\n",
    "    Given a row of data, get the city, latitude, and longitude\n",
    "    and calculate the distance from downtown.\n",
    "    '''\n",
    "    city = row['city']\n",
    "    lat1 = lat_long[city]['lat']\n",
    "    lat2 = row['latitude']\n",
    "    long1 = lat_long[city]['long']\n",
    "    long2 = row['longitude']\n",
    "    lon = long1 - long2\n",
    "    lat = lat1 - lat2\n",
    "    a = (np.sin(lat/2))**2 + np.cos(lat1) * np.cos(lat2) * ((np.sin(lon/2))**2)\n",
    "    c = 2 * np.arctan2(np.sqrt(a), np.sqrt(1-a))\n",
    "    return 69.172*c"
   ]
  },
  {
   "cell_type": "markdown",
   "metadata": {},
   "source": [
    "#### Cleaning up"
   ]
  },
  {
   "cell_type": "code",
   "execution_count": 50,
   "metadata": {},
   "outputs": [],
   "source": [
    "#import data as dataframe\n",
    "df = pd.read_csv('train.csv')\n",
    "chi_df = df[df['city']=='Chicago']"
   ]
  },
  {
   "cell_type": "code",
   "execution_count": 6,
   "metadata": {},
   "outputs": [],
   "source": [
    "#drop duplicates for Airbnb ID's and drop NA in specific columns\n",
    "df.drop_duplicates(subset=['id'],inplace=True)\n",
    "df.dropna(subset=['bathrooms', 'host_has_profile_pic',\n",
    "                  'host_identity_verified', 'host_since',\n",
    "                  'bedrooms', 'beds'],\n",
    "                   inplace=True)\n",
    "\n",
    "#create our distance column\n",
    "df['distance'] = df.apply(lambda r: get_distance(r), axis=1)\n",
    "\n",
    "#convert host response rates and review scores to floats between 0 and 1\n",
    "df['host_response_rate'] = df['host_response_rate'].str.strip('%').astype('float')/100\n",
    "df.review_scores_rating = df.review_scores_rating/100\n",
    "\n",
    "#fill in empty host response rates and review scores as 0\n",
    "df['host_response_rate'].fillna(value=0.0, inplace=True)\n",
    "df['review_scores_rating'].fillna(value=0.0, inplace=True)\n",
    "\n",
    "#Replace t,f and True,False to 1 and 0\n",
    "df.replace({'t':1, 'f': 0}, inplace=True)\n",
    "df.cleaning_fee = df.cleaning_fee.astype(int)\n",
    "\n",
    "#Apply a sqrt transform on number_of_reviews\n",
    "df.number_of_reviews = df.number_of_reviews.apply(lambda x: np.sqrt(x))"
   ]
  },
  {
   "cell_type": "code",
   "execution_count": 7,
   "metadata": {},
   "outputs": [],
   "source": [
    "#make a new columns of accommodates per bedroom\n",
    "df['ppl_per_room'] = df['accommodates'] / df['bedrooms']\n",
    "\n",
    "#replace inf and -inf with 0.0\n",
    "df.ppl_per_room = df.ppl_per_room.replace([np.inf, -np.inf], float(0.0))"
   ]
  },
  {
   "cell_type": "code",
   "execution_count": 8,
   "metadata": {},
   "outputs": [],
   "source": [
    "#Drop unwanted columns\n",
    "df_cleaned = df.drop(columns = ['id','amenities', 'description',\n",
    "                               'first_review', 'host_since', 'last_review',\n",
    "                               'name', 'neighbourhood', 'thumbnail_url',\n",
    "                               'zipcode', 'city', 'latitude', 'longitude', 'beds'])"
   ]
  },
  {
   "cell_type": "code",
   "execution_count": 9,
   "metadata": {},
   "outputs": [],
   "source": [
    "#apply property_grouping function to property_type\n",
    "df_cleaned['property_type'] = df_cleaned['property_type'].apply(property_grouping)\n",
    "\n",
    "#get rid of any super strict policies since there are relatively a few of them\n",
    "df_cleaned = df_cleaned[df_cleaned['cancellation_policy'].str.contains('super')==False]"
   ]
  },
  {
   "cell_type": "code",
   "execution_count": 11,
   "metadata": {},
   "outputs": [],
   "source": [
    "#Rearranging the dataframe\n",
    "B = df_cleaned.select_dtypes(exclude='object')\n",
    "A = df_cleaned[['cleaning_fee', 'host_has_profile_pic', 'host_identity_verified','instant_bookable']]\n",
    "B = B.drop(columns=list(A.columns))\n",
    "C = df_cleaned.select_dtypes(include='object')"
   ]
  },
  {
   "cell_type": "code",
   "execution_count": 12,
   "metadata": {},
   "outputs": [],
   "source": [
    "#Our finalized dataframe that we will work with\n",
    "final_df = A.join(C)\n",
    "final_df = final_df.join(B)"
   ]
  },
  {
   "cell_type": "code",
   "execution_count": 14,
   "metadata": {},
   "outputs": [],
   "source": [
    "#some encoding\n",
    "dummies = make_dummies(final_df.iloc[:,4:8])\n",
    "final_df = final_df.join(dummies)\n",
    "final_df.drop(columns=['property_type', 'room_type', 'bed_type', 'cancellation_policy'], inplace=True)"
   ]
  },
  {
   "cell_type": "code",
   "execution_count": 16,
   "metadata": {},
   "outputs": [],
   "source": [
    "#set our dependent variable separately from the independent variables\n",
    "y = final_df.log_price\n",
    "final_df.drop(columns='log_price',inplace=True)"
   ]
  },
  {
   "cell_type": "code",
   "execution_count": 17,
   "metadata": {},
   "outputs": [],
   "source": [
    "X_train, X_test, y_train, y_test = train_test_split(final_df, y, test_size=.3)"
   ]
  },
  {
   "cell_type": "markdown",
   "metadata": {},
   "source": [
    "# Analysis"
   ]
  },
  {
   "cell_type": "markdown",
   "metadata": {},
   "source": [
    "## Run our model on our train data"
   ]
  },
  {
   "cell_type": "markdown",
   "metadata": {},
   "source": [
    "We are setting our categorical and numeric data separately. Our extra is composed of columns with binary values."
   ]
  },
  {
   "cell_type": "code",
   "execution_count": 19,
   "metadata": {},
   "outputs": [],
   "source": [
    "X_numeric_train = X_train.iloc[:,4:12]\n",
    "X_categorical_train = X_train.iloc[:,12:]\n",
    "X_extra_train = X_train.iloc[:,:4]"
   ]
  },
  {
   "cell_type": "markdown",
   "metadata": {},
   "source": [
    "Scaling our data for a more direct compmarison and maintain our columns and index values"
   ]
  },
  {
   "cell_type": "code",
   "execution_count": 20,
   "metadata": {},
   "outputs": [],
   "source": [
    "ss = StandardScaler()\n",
    "\n",
    "X_num_train_col = X_numeric_train.columns\n",
    "X_num_train_ind = X_numeric_train.index\n",
    "\n",
    "X_numeric_train = pd.DataFrame(ss.fit_transform(X_numeric_train))\n",
    "\n",
    "X_numeric_train.columns = X_num_train_col\n",
    "X_numeric_train.index = X_num_train_ind"
   ]
  },
  {
   "cell_type": "markdown",
   "metadata": {},
   "source": [
    "Drop our outliers and make sure the indices are the same over all the dataframes"
   ]
  },
  {
   "cell_type": "code",
   "execution_count": 62,
   "metadata": {},
   "outputs": [],
   "source": [
    "X_numeric_train = X_numeric_train[(np.abs(X_numeric_train) < 2.5).all(axis=1)]\n",
    "\n",
    "X_categorical_train = X_categorical_train[X_categorical_train.index.isin(X_numeric_train.index)]\n",
    "X_extra_train = X_extra_train[X_extra_train.index.isin(X_numeric_train.index)]\n",
    "y_train = y_train[y_train.index.isin(X_numeric_train.index)]"
   ]
  },
  {
   "cell_type": "markdown",
   "metadata": {},
   "source": [
    "Put our entire dataframe back together."
   ]
  },
  {
   "cell_type": "code",
   "execution_count": 63,
   "metadata": {},
   "outputs": [],
   "source": [
    "X1 = X_numeric_train.join(X_categorical_train)\n",
    "X1 = X1.join(X_extra_train)"
   ]
  },
  {
   "cell_type": "markdown",
   "metadata": {},
   "source": [
    "### Baseline\n",
    "Getting rid of the dummy trap by setting our baseline as having an entire Apartment with a real bed and moderate rule policies. Then we see what our score is."
   ]
  },
  {
   "cell_type": "code",
   "execution_count": 64,
   "metadata": {},
   "outputs": [
    {
     "data": {
      "text/plain": [
       "0.49892612256502183"
      ]
     },
     "execution_count": 64,
     "metadata": {},
     "output_type": "execute_result"
    }
   ],
   "source": [
    "X1.drop(columns=['Apartment', 'Entire_home_apt', 'Real_Bed', 'moderate'],inplace=True)\n",
    "lr = LinearRegression()\n",
    "lr.fit(X1,y_train)\n",
    "lr.score(X1,y_train)"
   ]
  },
  {
   "cell_type": "markdown",
   "metadata": {},
   "source": [
    "# Test Data"
   ]
  },
  {
   "cell_type": "markdown",
   "metadata": {},
   "source": [
    "Rerun our model on our test data."
   ]
  },
  {
   "cell_type": "code",
   "execution_count": 66,
   "metadata": {},
   "outputs": [],
   "source": [
    "X_numeric_test = X_test.iloc[:,7:12]\n",
    "X_categorical_test = X_test.iloc[:,12:]\n",
    "X_extra_test = X_test.iloc[:,:3]\n",
    "\n",
    "ss = StandardScaler()\n",
    "\n",
    "X_num_test_col = X_numeric_test.columns\n",
    "X_num_test_ind = X_numeric_test.index\n",
    "\n",
    "X_numeric_test = pd.DataFrame(ss.fit_transform(X_numeric_test))\n",
    "\n",
    "X_numeric_test.columns = X_num_test_col\n",
    "X_numeric_test.index = X_num_test_ind\n",
    "\n",
    "X_numeric_test = X_numeric_test[(np.abs(X_numeric_test) < 2.5).all(axis=1)]\n",
    "\n",
    "X_categorical_test = X_categorical_test[X_categorical_test.index.isin(X_numeric_test.index)]\n",
    "X_extra_test = X_extra_test[X_extra_test.index.isin(X_numeric_test.index)]\n",
    "y_test = y_test[y_test.index.isin(X_numeric_test.index)]\n",
    "\n",
    "X2 = X_numeric_test.join(X_categorical_test)\n",
    "X2 = X2.join(X_extra_test)\n",
    "\n",
    "X2.drop(columns=['Apartment', 'Entire_home_apt', 'Real_Bed', 'moderate'],inplace=True)"
   ]
  },
  {
   "cell_type": "markdown",
   "metadata": {},
   "source": [
    "Check our score for our test data."
   ]
  },
  {
   "cell_type": "code",
   "execution_count": 67,
   "metadata": {},
   "outputs": [
    {
     "data": {
      "text/plain": [
       "0.4915476109469443"
      ]
     },
     "execution_count": 67,
     "metadata": {},
     "output_type": "execute_result"
    }
   ],
   "source": [
    "lr = LinearRegression()\n",
    "lr.fit(X2,y_test)\n",
    "lr.score(X2,y_test)"
   ]
  },
  {
   "cell_type": "markdown",
   "metadata": {},
   "source": [
    "#### Train Data Model"
   ]
  },
  {
   "cell_type": "code",
   "execution_count": 27,
   "metadata": {},
   "outputs": [
    {
     "data": {
      "text/html": [
       "<table class=\"simpletable\">\n",
       "<caption>OLS Regression Results</caption>\n",
       "<tr>\n",
       "  <th>Dep. Variable:</th>        <td>log_price</td>    <th>  R-squared:         </th> <td>   0.499</td> \n",
       "</tr>\n",
       "<tr>\n",
       "  <th>Model:</th>                   <td>OLS</td>       <th>  Adj. R-squared:    </th> <td>   0.499</td> \n",
       "</tr>\n",
       "<tr>\n",
       "  <th>Method:</th>             <td>Least Squares</td>  <th>  F-statistic:       </th> <td>   1896.</td> \n",
       "</tr>\n",
       "<tr>\n",
       "  <th>Date:</th>             <td>Fri, 06 Mar 2020</td> <th>  Prob (F-statistic):</th>  <td>  0.00</td>  \n",
       "</tr>\n",
       "<tr>\n",
       "  <th>Time:</th>                 <td>13:03:40</td>     <th>  Log-Likelihood:    </th> <td> -30552.</td> \n",
       "</tr>\n",
       "<tr>\n",
       "  <th>No. Observations:</th>      <td> 45733</td>      <th>  AIC:               </th> <td>6.115e+04</td>\n",
       "</tr>\n",
       "<tr>\n",
       "  <th>Df Residuals:</th>          <td> 45708</td>      <th>  BIC:               </th> <td>6.137e+04</td>\n",
       "</tr>\n",
       "<tr>\n",
       "  <th>Df Model:</th>              <td>    24</td>      <th>                     </th>     <td> </td>    \n",
       "</tr>\n",
       "<tr>\n",
       "  <th>Covariance Type:</th>      <td>nonrobust</td>    <th>                     </th>     <td> </td>    \n",
       "</tr>\n",
       "</table>\n",
       "<table class=\"simpletable\">\n",
       "<tr>\n",
       "             <td></td>               <th>coef</th>     <th>std err</th>      <th>t</th>      <th>P>|t|</th>  <th>[0.025</th>    <th>0.975]</th>  \n",
       "</tr>\n",
       "<tr>\n",
       "  <th>Intercept</th>              <td>    5.1655</td> <td>    0.041</td> <td>  125.210</td> <td> 0.000</td> <td>    5.085</td> <td>    5.246</td>\n",
       "</tr>\n",
       "<tr>\n",
       "  <th>accommodates</th>           <td>    0.2037</td> <td>    0.006</td> <td>   36.691</td> <td> 0.000</td> <td>    0.193</td> <td>    0.215</td>\n",
       "</tr>\n",
       "<tr>\n",
       "  <th>bathrooms</th>              <td>    0.0837</td> <td>    0.004</td> <td>   20.846</td> <td> 0.000</td> <td>    0.076</td> <td>    0.092</td>\n",
       "</tr>\n",
       "<tr>\n",
       "  <th>host_response_rate</th>     <td>   -0.0326</td> <td>    0.003</td> <td>  -12.728</td> <td> 0.000</td> <td>   -0.038</td> <td>   -0.028</td>\n",
       "</tr>\n",
       "<tr>\n",
       "  <th>number_of_reviews</th>      <td>   -0.0162</td> <td>    0.003</td> <td>   -4.801</td> <td> 0.000</td> <td>   -0.023</td> <td>   -0.010</td>\n",
       "</tr>\n",
       "<tr>\n",
       "  <th>review_scores_rating</th>   <td>   -0.0590</td> <td>    0.003</td> <td>  -21.123</td> <td> 0.000</td> <td>   -0.065</td> <td>   -0.054</td>\n",
       "</tr>\n",
       "<tr>\n",
       "  <th>bedrooms</th>               <td>    0.0951</td> <td>    0.004</td> <td>   23.379</td> <td> 0.000</td> <td>    0.087</td> <td>    0.103</td>\n",
       "</tr>\n",
       "<tr>\n",
       "  <th>distance</th>               <td>   -0.1421</td> <td>    0.003</td> <td>  -47.722</td> <td> 0.000</td> <td>   -0.148</td> <td>   -0.136</td>\n",
       "</tr>\n",
       "<tr>\n",
       "  <th>ppl_per_room</th>           <td>   -0.0104</td> <td>    0.003</td> <td>   -3.402</td> <td> 0.001</td> <td>   -0.016</td> <td>   -0.004</td>\n",
       "</tr>\n",
       "<tr>\n",
       "  <th>House</th>                  <td>    0.0144</td> <td>    0.006</td> <td>    2.357</td> <td> 0.018</td> <td>    0.002</td> <td>    0.026</td>\n",
       "</tr>\n",
       "<tr>\n",
       "  <th>Loft</th>                   <td>    0.1349</td> <td>    0.017</td> <td>    7.769</td> <td> 0.000</td> <td>    0.101</td> <td>    0.169</td>\n",
       "</tr>\n",
       "<tr>\n",
       "  <th>Other</th>                  <td>    0.1136</td> <td>    0.009</td> <td>   12.968</td> <td> 0.000</td> <td>    0.096</td> <td>    0.131</td>\n",
       "</tr>\n",
       "<tr>\n",
       "  <th>Townhouse</th>              <td>    0.0351</td> <td>    0.015</td> <td>    2.281</td> <td> 0.023</td> <td>    0.005</td> <td>    0.065</td>\n",
       "</tr>\n",
       "<tr>\n",
       "  <th>Private_room</th>           <td>   -0.5543</td> <td>    0.006</td> <td>  -95.637</td> <td> 0.000</td> <td>   -0.566</td> <td>   -0.543</td>\n",
       "</tr>\n",
       "<tr>\n",
       "  <th>Shared_room</th>            <td>   -0.9821</td> <td>    0.015</td> <td>  -66.863</td> <td> 0.000</td> <td>   -1.011</td> <td>   -0.953</td>\n",
       "</tr>\n",
       "<tr>\n",
       "  <th>Airbed</th>                 <td>   -0.0466</td> <td>    0.027</td> <td>   -1.700</td> <td> 0.089</td> <td>   -0.100</td> <td>    0.007</td>\n",
       "</tr>\n",
       "<tr>\n",
       "  <th>Couch</th>                  <td>    0.0362</td> <td>    0.037</td> <td>    0.989</td> <td> 0.323</td> <td>   -0.036</td> <td>    0.108</td>\n",
       "</tr>\n",
       "<tr>\n",
       "  <th>Futon</th>                  <td>   -0.0504</td> <td>    0.022</td> <td>   -2.323</td> <td> 0.020</td> <td>   -0.093</td> <td>   -0.008</td>\n",
       "</tr>\n",
       "<tr>\n",
       "  <th>Pull_out_Sofa</th>          <td>    0.0194</td> <td>    0.025</td> <td>    0.773</td> <td> 0.439</td> <td>   -0.030</td> <td>    0.069</td>\n",
       "</tr>\n",
       "<tr>\n",
       "  <th>flexible</th>               <td>    0.0005</td> <td>    0.006</td> <td>    0.077</td> <td> 0.938</td> <td>   -0.012</td> <td>    0.013</td>\n",
       "</tr>\n",
       "<tr>\n",
       "  <th>strict</th>                 <td>    0.0374</td> <td>    0.006</td> <td>    6.748</td> <td> 0.000</td> <td>    0.027</td> <td>    0.048</td>\n",
       "</tr>\n",
       "<tr>\n",
       "  <th>cleaning_fee</th>           <td>   -0.0286</td> <td>    0.006</td> <td>   -5.150</td> <td> 0.000</td> <td>   -0.039</td> <td>   -0.018</td>\n",
       "</tr>\n",
       "<tr>\n",
       "  <th>host_has_profile_pic</th>   <td>   -0.1221</td> <td>    0.041</td> <td>   -2.991</td> <td> 0.003</td> <td>   -0.202</td> <td>   -0.042</td>\n",
       "</tr>\n",
       "<tr>\n",
       "  <th>host_identity_verified</th> <td>   -0.0067</td> <td>    0.005</td> <td>   -1.364</td> <td> 0.172</td> <td>   -0.016</td> <td>    0.003</td>\n",
       "</tr>\n",
       "<tr>\n",
       "  <th>instant_bookable</th>       <td>   -0.0521</td> <td>    0.005</td> <td>  -10.042</td> <td> 0.000</td> <td>   -0.062</td> <td>   -0.042</td>\n",
       "</tr>\n",
       "</table>\n",
       "<table class=\"simpletable\">\n",
       "<tr>\n",
       "  <th>Omnibus:</th>       <td>4393.526</td> <th>  Durbin-Watson:     </th> <td>   1.985</td> \n",
       "</tr>\n",
       "<tr>\n",
       "  <th>Prob(Omnibus):</th>  <td> 0.000</td>  <th>  Jarque-Bera (JB):  </th> <td>12749.266</td>\n",
       "</tr>\n",
       "<tr>\n",
       "  <th>Skew:</th>           <td> 0.524</td>  <th>  Prob(JB):          </th> <td>    0.00</td> \n",
       "</tr>\n",
       "<tr>\n",
       "  <th>Kurtosis:</th>       <td> 5.365</td>  <th>  Cond. No.          </th> <td>    50.5</td> \n",
       "</tr>\n",
       "</table><br/><br/>Warnings:<br/>[1] Standard Errors assume that the covariance matrix of the errors is correctly specified."
      ],
      "text/plain": [
       "<class 'statsmodels.iolib.summary.Summary'>\n",
       "\"\"\"\n",
       "                            OLS Regression Results                            \n",
       "==============================================================================\n",
       "Dep. Variable:              log_price   R-squared:                       0.499\n",
       "Model:                            OLS   Adj. R-squared:                  0.499\n",
       "Method:                 Least Squares   F-statistic:                     1896.\n",
       "Date:                Fri, 06 Mar 2020   Prob (F-statistic):               0.00\n",
       "Time:                        13:03:40   Log-Likelihood:                -30552.\n",
       "No. Observations:               45733   AIC:                         6.115e+04\n",
       "Df Residuals:                   45708   BIC:                         6.137e+04\n",
       "Df Model:                          24                                         \n",
       "Covariance Type:            nonrobust                                         \n",
       "==========================================================================================\n",
       "                             coef    std err          t      P>|t|      [0.025      0.975]\n",
       "------------------------------------------------------------------------------------------\n",
       "Intercept                  5.1655      0.041    125.210      0.000       5.085       5.246\n",
       "accommodates               0.2037      0.006     36.691      0.000       0.193       0.215\n",
       "bathrooms                  0.0837      0.004     20.846      0.000       0.076       0.092\n",
       "host_response_rate        -0.0326      0.003    -12.728      0.000      -0.038      -0.028\n",
       "number_of_reviews         -0.0162      0.003     -4.801      0.000      -0.023      -0.010\n",
       "review_scores_rating      -0.0590      0.003    -21.123      0.000      -0.065      -0.054\n",
       "bedrooms                   0.0951      0.004     23.379      0.000       0.087       0.103\n",
       "distance                  -0.1421      0.003    -47.722      0.000      -0.148      -0.136\n",
       "ppl_per_room              -0.0104      0.003     -3.402      0.001      -0.016      -0.004\n",
       "House                      0.0144      0.006      2.357      0.018       0.002       0.026\n",
       "Loft                       0.1349      0.017      7.769      0.000       0.101       0.169\n",
       "Other                      0.1136      0.009     12.968      0.000       0.096       0.131\n",
       "Townhouse                  0.0351      0.015      2.281      0.023       0.005       0.065\n",
       "Private_room              -0.5543      0.006    -95.637      0.000      -0.566      -0.543\n",
       "Shared_room               -0.9821      0.015    -66.863      0.000      -1.011      -0.953\n",
       "Airbed                    -0.0466      0.027     -1.700      0.089      -0.100       0.007\n",
       "Couch                      0.0362      0.037      0.989      0.323      -0.036       0.108\n",
       "Futon                     -0.0504      0.022     -2.323      0.020      -0.093      -0.008\n",
       "Pull_out_Sofa              0.0194      0.025      0.773      0.439      -0.030       0.069\n",
       "flexible                   0.0005      0.006      0.077      0.938      -0.012       0.013\n",
       "strict                     0.0374      0.006      6.748      0.000       0.027       0.048\n",
       "cleaning_fee              -0.0286      0.006     -5.150      0.000      -0.039      -0.018\n",
       "host_has_profile_pic      -0.1221      0.041     -2.991      0.003      -0.202      -0.042\n",
       "host_identity_verified    -0.0067      0.005     -1.364      0.172      -0.016       0.003\n",
       "instant_bookable          -0.0521      0.005    -10.042      0.000      -0.062      -0.042\n",
       "==============================================================================\n",
       "Omnibus:                     4393.526   Durbin-Watson:                   1.985\n",
       "Prob(Omnibus):                  0.000   Jarque-Bera (JB):            12749.266\n",
       "Skew:                           0.524   Prob(JB):                         0.00\n",
       "Kurtosis:                       5.365   Cond. No.                         50.5\n",
       "==============================================================================\n",
       "\n",
       "Warnings:\n",
       "[1] Standard Errors assume that the covariance matrix of the errors is correctly specified.\n",
       "\"\"\""
      ]
     },
     "execution_count": 27,
     "metadata": {},
     "output_type": "execute_result"
    }
   ],
   "source": [
    "X1.drop(columns=['ppl_per_room','Townhouse', 'Airbed', 'Couch', 'Pull_out_Sofa', 'flexible', 'host_identity_verified'])\n",
    "f1 = 'log_price ~ ' + '+'.join(X1.columns)\n",
    "mod = smf.ols(formula=f1, data = X1.join(y_train))\n",
    "res = mod.fit()\n",
    "res.summary()"
   ]
  },
  {
   "cell_type": "markdown",
   "metadata": {},
   "source": [
    "#### Test Data Model"
   ]
  },
  {
   "cell_type": "code",
   "execution_count": 68,
   "metadata": {},
   "outputs": [
    {
     "data": {
      "text/html": [
       "<table class=\"simpletable\">\n",
       "<caption>OLS Regression Results</caption>\n",
       "<tr>\n",
       "  <th>Dep. Variable:</th>        <td>log_price</td>    <th>  R-squared:         </th> <td>   0.491</td> \n",
       "</tr>\n",
       "<tr>\n",
       "  <th>Model:</th>                   <td>OLS</td>       <th>  Adj. R-squared:    </th> <td>   0.491</td> \n",
       "</tr>\n",
       "<tr>\n",
       "  <th>Method:</th>             <td>Least Squares</td>  <th>  F-statistic:       </th> <td>   1380.</td> \n",
       "</tr>\n",
       "<tr>\n",
       "  <th>Date:</th>             <td>Fri, 06 Mar 2020</td> <th>  Prob (F-statistic):</th>  <td>  0.00</td>  \n",
       "</tr>\n",
       "<tr>\n",
       "  <th>Time:</th>                 <td>14:38:54</td>     <th>  Log-Likelihood:    </th> <td> -13918.</td> \n",
       "</tr>\n",
       "<tr>\n",
       "  <th>No. Observations:</th>      <td> 20019</td>      <th>  AIC:               </th> <td>2.787e+04</td>\n",
       "</tr>\n",
       "<tr>\n",
       "  <th>Df Residuals:</th>          <td> 20004</td>      <th>  BIC:               </th> <td>2.798e+04</td>\n",
       "</tr>\n",
       "<tr>\n",
       "  <th>Df Model:</th>              <td>    14</td>      <th>                     </th>     <td> </td>    \n",
       "</tr>\n",
       "<tr>\n",
       "  <th>Covariance Type:</th>      <td>nonrobust</td>    <th>                     </th>     <td> </td>    \n",
       "</tr>\n",
       "</table>\n",
       "<table class=\"simpletable\">\n",
       "<tr>\n",
       "            <td></td>              <th>coef</th>     <th>std err</th>      <th>t</th>      <th>P>|t|</th>  <th>[0.025</th>    <th>0.975]</th>  \n",
       "</tr>\n",
       "<tr>\n",
       "  <th>Intercept</th>            <td>    5.0530</td> <td>    0.009</td> <td>  577.634</td> <td> 0.000</td> <td>    5.036</td> <td>    5.070</td>\n",
       "</tr>\n",
       "<tr>\n",
       "  <th>number_of_reviews</th>    <td>   -0.0322</td> <td>    0.005</td> <td>   -6.485</td> <td> 0.000</td> <td>   -0.042</td> <td>   -0.022</td>\n",
       "</tr>\n",
       "<tr>\n",
       "  <th>review_scores_rating</th> <td>   -0.0674</td> <td>    0.004</td> <td>  -16.009</td> <td> 0.000</td> <td>   -0.076</td> <td>   -0.059</td>\n",
       "</tr>\n",
       "<tr>\n",
       "  <th>bedrooms</th>             <td>    0.2228</td> <td>    0.005</td> <td>   46.013</td> <td> 0.000</td> <td>    0.213</td> <td>    0.232</td>\n",
       "</tr>\n",
       "<tr>\n",
       "  <th>distance</th>             <td>   -0.1350</td> <td>    0.005</td> <td>  -29.606</td> <td> 0.000</td> <td>   -0.144</td> <td>   -0.126</td>\n",
       "</tr>\n",
       "<tr>\n",
       "  <th>ppl_per_room</th>         <td>    0.0286</td> <td>    0.004</td> <td>    6.623</td> <td> 0.000</td> <td>    0.020</td> <td>    0.037</td>\n",
       "</tr>\n",
       "<tr>\n",
       "  <th>House</th>                <td>    0.0534</td> <td>    0.009</td> <td>    5.752</td> <td> 0.000</td> <td>    0.035</td> <td>    0.072</td>\n",
       "</tr>\n",
       "<tr>\n",
       "  <th>Loft</th>                 <td>    0.2233</td> <td>    0.027</td> <td>    8.324</td> <td> 0.000</td> <td>    0.171</td> <td>    0.276</td>\n",
       "</tr>\n",
       "<tr>\n",
       "  <th>Other</th>                <td>    0.1696</td> <td>    0.013</td> <td>   12.928</td> <td> 0.000</td> <td>    0.144</td> <td>    0.195</td>\n",
       "</tr>\n",
       "<tr>\n",
       "  <th>Townhouse</th>            <td>    0.0402</td> <td>    0.025</td> <td>    1.633</td> <td> 0.102</td> <td>   -0.008</td> <td>    0.088</td>\n",
       "</tr>\n",
       "<tr>\n",
       "  <th>Private_room</th>         <td>   -0.6966</td> <td>    0.008</td> <td>  -92.210</td> <td> 0.000</td> <td>   -0.711</td> <td>   -0.682</td>\n",
       "</tr>\n",
       "<tr>\n",
       "  <th>Shared_room</th>          <td>   -1.1489</td> <td>    0.020</td> <td>  -56.128</td> <td> 0.000</td> <td>   -1.189</td> <td>   -1.109</td>\n",
       "</tr>\n",
       "<tr>\n",
       "  <th>Futon</th>                <td>   -0.0864</td> <td>    0.034</td> <td>   -2.513</td> <td> 0.012</td> <td>   -0.154</td> <td>   -0.019</td>\n",
       "</tr>\n",
       "<tr>\n",
       "  <th>strict</th>               <td>    0.0378</td> <td>    0.007</td> <td>    5.178</td> <td> 0.000</td> <td>    0.024</td> <td>    0.052</td>\n",
       "</tr>\n",
       "<tr>\n",
       "  <th>cleaning_fee</th>         <td>   -0.0158</td> <td>    0.008</td> <td>   -1.882</td> <td> 0.060</td> <td>   -0.032</td> <td>    0.001</td>\n",
       "</tr>\n",
       "</table>\n",
       "<table class=\"simpletable\">\n",
       "<tr>\n",
       "  <th>Omnibus:</th>       <td>1801.044</td> <th>  Durbin-Watson:     </th> <td>   2.003</td>\n",
       "</tr>\n",
       "<tr>\n",
       "  <th>Prob(Omnibus):</th>  <td> 0.000</td>  <th>  Jarque-Bera (JB):  </th> <td>4270.895</td>\n",
       "</tr>\n",
       "<tr>\n",
       "  <th>Skew:</th>           <td> 0.549</td>  <th>  Prob(JB):          </th> <td>    0.00</td>\n",
       "</tr>\n",
       "<tr>\n",
       "  <th>Kurtosis:</th>       <td> 4.978</td>  <th>  Cond. No.          </th> <td>    14.5</td>\n",
       "</tr>\n",
       "</table><br/><br/>Warnings:<br/>[1] Standard Errors assume that the covariance matrix of the errors is correctly specified."
      ],
      "text/plain": [
       "<class 'statsmodels.iolib.summary.Summary'>\n",
       "\"\"\"\n",
       "                            OLS Regression Results                            \n",
       "==============================================================================\n",
       "Dep. Variable:              log_price   R-squared:                       0.491\n",
       "Model:                            OLS   Adj. R-squared:                  0.491\n",
       "Method:                 Least Squares   F-statistic:                     1380.\n",
       "Date:                Fri, 06 Mar 2020   Prob (F-statistic):               0.00\n",
       "Time:                        14:38:54   Log-Likelihood:                -13918.\n",
       "No. Observations:               20019   AIC:                         2.787e+04\n",
       "Df Residuals:                   20004   BIC:                         2.798e+04\n",
       "Df Model:                          14                                         \n",
       "Covariance Type:            nonrobust                                         \n",
       "========================================================================================\n",
       "                           coef    std err          t      P>|t|      [0.025      0.975]\n",
       "----------------------------------------------------------------------------------------\n",
       "Intercept                5.0530      0.009    577.634      0.000       5.036       5.070\n",
       "number_of_reviews       -0.0322      0.005     -6.485      0.000      -0.042      -0.022\n",
       "review_scores_rating    -0.0674      0.004    -16.009      0.000      -0.076      -0.059\n",
       "bedrooms                 0.2228      0.005     46.013      0.000       0.213       0.232\n",
       "distance                -0.1350      0.005    -29.606      0.000      -0.144      -0.126\n",
       "ppl_per_room             0.0286      0.004      6.623      0.000       0.020       0.037\n",
       "House                    0.0534      0.009      5.752      0.000       0.035       0.072\n",
       "Loft                     0.2233      0.027      8.324      0.000       0.171       0.276\n",
       "Other                    0.1696      0.013     12.928      0.000       0.144       0.195\n",
       "Townhouse                0.0402      0.025      1.633      0.102      -0.008       0.088\n",
       "Private_room            -0.6966      0.008    -92.210      0.000      -0.711      -0.682\n",
       "Shared_room             -1.1489      0.020    -56.128      0.000      -1.189      -1.109\n",
       "Futon                   -0.0864      0.034     -2.513      0.012      -0.154      -0.019\n",
       "strict                   0.0378      0.007      5.178      0.000       0.024       0.052\n",
       "cleaning_fee            -0.0158      0.008     -1.882      0.060      -0.032       0.001\n",
       "==============================================================================\n",
       "Omnibus:                     1801.044   Durbin-Watson:                   2.003\n",
       "Prob(Omnibus):                  0.000   Jarque-Bera (JB):             4270.895\n",
       "Skew:                           0.549   Prob(JB):                         0.00\n",
       "Kurtosis:                       4.978   Cond. No.                         14.5\n",
       "==============================================================================\n",
       "\n",
       "Warnings:\n",
       "[1] Standard Errors assume that the covariance matrix of the errors is correctly specified.\n",
       "\"\"\""
      ]
     },
     "execution_count": 68,
     "metadata": {},
     "output_type": "execute_result"
    }
   ],
   "source": [
    "X2.drop(columns=['Couch', 'Pull_out_Sofa', 'flexible', 'host_has_profile_pic', 'host_identity_verified', 'Airbed'],inplace=True)\n",
    "f2 = 'log_price ~ ' + '+'.join(X2.columns)\n",
    "mod = smf.ols(formula=f2, data = X2.join(y_test))\n",
    "res = mod.fit()\n",
    "res.summary()"
   ]
  },
  {
   "cell_type": "markdown",
   "metadata": {},
   "source": [
    "# Final Model"
   ]
  },
  {
   "cell_type": "markdown",
   "metadata": {},
   "source": [
    "Run our model on our entire dataset."
   ]
  },
  {
   "cell_type": "code",
   "execution_count": 29,
   "metadata": {},
   "outputs": [
    {
     "data": {
      "text/plain": [
       "0.48681462259074426"
      ]
     },
     "execution_count": 29,
     "metadata": {},
     "output_type": "execute_result"
    }
   ],
   "source": [
    "X_numeric = final_df.iloc[:,7:12]\n",
    "X_categorical = final_df.iloc[:,12:]\n",
    "X_extra = final_df.iloc[:,:3]\n",
    "\n",
    "ss = StandardScaler()\n",
    "\n",
    "X_num_col = X_numeric.columns\n",
    "X_num_ind = X_numeric.index\n",
    "\n",
    "X_numeric = pd.DataFrame(ss.fit_transform(X_numeric))\n",
    "\n",
    "X_numeric.columns = X_num_col\n",
    "X_numeric.index = X_num_ind\n",
    "\n",
    "X_numeric = X_numeric[(np.abs(X_numeric) < 2.5).all(axis=1)]\n",
    "\n",
    "X_categorical = X_categorical[X_categorical.index.isin(X_numeric.index)]\n",
    "X_extra = X_extra[X_extra.index.isin(X_numeric.index)]\n",
    "y = y[y.index.isin(X_numeric.index)]\n",
    "\n",
    "X = X_numeric.join(X_categorical)\n",
    "X = X.join(X_extra)\n",
    "\n",
    "X.drop(columns=['Apartment', 'Entire_home_apt', 'Real_Bed', 'moderate'],inplace=True)\n",
    "\n",
    "lr = LinearRegression()\n",
    "lr.fit(X,y)\n",
    "lr.score(X,y)"
   ]
  },
  {
   "cell_type": "markdown",
   "metadata": {},
   "source": [
    "Get our coefficients and sort them"
   ]
  },
  {
   "cell_type": "code",
   "execution_count": 69,
   "metadata": {},
   "outputs": [],
   "source": [
    "coefficients = dict(zip(X.columns,lr.coef_))\n",
    "coefficients = sorted(coefficients.items(), key=(lambda c:c[1]), reverse=True)"
   ]
  },
  {
   "cell_type": "markdown",
   "metadata": {},
   "source": [
    "Get our model and its summary for our entire data."
   ]
  },
  {
   "cell_type": "code",
   "execution_count": 33,
   "metadata": {},
   "outputs": [
    {
     "data": {
      "text/html": [
       "<table class=\"simpletable\">\n",
       "<caption>OLS Regression Results</caption>\n",
       "<tr>\n",
       "  <th>Dep. Variable:</th>        <td>log_price</td>    <th>  R-squared:         </th> <td>   0.487</td> \n",
       "</tr>\n",
       "<tr>\n",
       "  <th>Model:</th>                   <td>OLS</td>       <th>  Adj. R-squared:    </th> <td>   0.487</td> \n",
       "</tr>\n",
       "<tr>\n",
       "  <th>Method:</th>             <td>Least Squares</td>  <th>  F-statistic:       </th> <td>   3956.</td> \n",
       "</tr>\n",
       "<tr>\n",
       "  <th>Date:</th>             <td>Fri, 06 Mar 2020</td> <th>  Prob (F-statistic):</th>  <td>  0.00</td>  \n",
       "</tr>\n",
       "<tr>\n",
       "  <th>Time:</th>                 <td>13:03:41</td>     <th>  Log-Likelihood:    </th> <td> -46962.</td> \n",
       "</tr>\n",
       "<tr>\n",
       "  <th>No. Observations:</th>      <td> 66760</td>      <th>  AIC:               </th> <td>9.396e+04</td>\n",
       "</tr>\n",
       "<tr>\n",
       "  <th>Df Residuals:</th>          <td> 66743</td>      <th>  BIC:               </th> <td>9.411e+04</td>\n",
       "</tr>\n",
       "<tr>\n",
       "  <th>Df Model:</th>              <td>    16</td>      <th>                     </th>     <td> </td>    \n",
       "</tr>\n",
       "<tr>\n",
       "  <th>Covariance Type:</th>      <td>nonrobust</td>    <th>                     </th>     <td> </td>    \n",
       "</tr>\n",
       "</table>\n",
       "<table class=\"simpletable\">\n",
       "<tr>\n",
       "            <td></td>              <th>coef</th>     <th>std err</th>      <th>t</th>      <th>P>|t|</th>  <th>[0.025</th>    <th>0.975]</th>  \n",
       "</tr>\n",
       "<tr>\n",
       "  <th>Intercept</th>            <td>    5.1922</td> <td>    0.034</td> <td>  150.821</td> <td> 0.000</td> <td>    5.125</td> <td>    5.260</td>\n",
       "</tr>\n",
       "<tr>\n",
       "  <th>number_of_reviews</th>    <td>   -0.0268</td> <td>    0.003</td> <td>   -9.715</td> <td> 0.000</td> <td>   -0.032</td> <td>   -0.021</td>\n",
       "</tr>\n",
       "<tr>\n",
       "  <th>review_scores_rating</th> <td>   -0.0684</td> <td>    0.002</td> <td>  -29.323</td> <td> 0.000</td> <td>   -0.073</td> <td>   -0.064</td>\n",
       "</tr>\n",
       "<tr>\n",
       "  <th>bedrooms</th>             <td>    0.2259</td> <td>    0.003</td> <td>   84.537</td> <td> 0.000</td> <td>    0.221</td> <td>    0.231</td>\n",
       "</tr>\n",
       "<tr>\n",
       "  <th>distance</th>             <td>   -0.1372</td> <td>    0.003</td> <td>  -54.204</td> <td> 0.000</td> <td>   -0.142</td> <td>   -0.132</td>\n",
       "</tr>\n",
       "<tr>\n",
       "  <th>ppl_per_room</th>         <td>    0.0278</td> <td>    0.002</td> <td>   11.923</td> <td> 0.000</td> <td>    0.023</td> <td>    0.032</td>\n",
       "</tr>\n",
       "<tr>\n",
       "  <th>House</th>                <td>    0.0508</td> <td>    0.005</td> <td>    9.877</td> <td> 0.000</td> <td>    0.041</td> <td>    0.061</td>\n",
       "</tr>\n",
       "<tr>\n",
       "  <th>Loft</th>                 <td>    0.1936</td> <td>    0.015</td> <td>   13.094</td> <td> 0.000</td> <td>    0.165</td> <td>    0.223</td>\n",
       "</tr>\n",
       "<tr>\n",
       "  <th>Other</th>                <td>    0.1364</td> <td>    0.007</td> <td>   18.506</td> <td> 0.000</td> <td>    0.122</td> <td>    0.151</td>\n",
       "</tr>\n",
       "<tr>\n",
       "  <th>Townhouse</th>            <td>    0.0628</td> <td>    0.013</td> <td>    4.810</td> <td> 0.000</td> <td>    0.037</td> <td>    0.088</td>\n",
       "</tr>\n",
       "<tr>\n",
       "  <th>Private_room</th>         <td>   -0.6935</td> <td>    0.004</td> <td> -166.911</td> <td> 0.000</td> <td>   -0.702</td> <td>   -0.685</td>\n",
       "</tr>\n",
       "<tr>\n",
       "  <th>Shared_room</th>          <td>   -1.1634</td> <td>    0.012</td> <td>  -98.731</td> <td> 0.000</td> <td>   -1.186</td> <td>   -1.140</td>\n",
       "</tr>\n",
       "<tr>\n",
       "  <th>Couch</th>                <td>    0.0779</td> <td>    0.032</td> <td>    2.468</td> <td> 0.014</td> <td>    0.016</td> <td>    0.140</td>\n",
       "</tr>\n",
       "<tr>\n",
       "  <th>Futon</th>                <td>   -0.0581</td> <td>    0.019</td> <td>   -3.086</td> <td> 0.002</td> <td>   -0.095</td> <td>   -0.021</td>\n",
       "</tr>\n",
       "<tr>\n",
       "  <th>strict</th>               <td>    0.0429</td> <td>    0.004</td> <td>   10.646</td> <td> 0.000</td> <td>    0.035</td> <td>    0.051</td>\n",
       "</tr>\n",
       "<tr>\n",
       "  <th>cleaning_fee</th>         <td>   -0.0261</td> <td>    0.005</td> <td>   -5.655</td> <td> 0.000</td> <td>   -0.035</td> <td>   -0.017</td>\n",
       "</tr>\n",
       "<tr>\n",
       "  <th>host_has_profile_pic</th> <td>   -0.1332</td> <td>    0.034</td> <td>   -3.887</td> <td> 0.000</td> <td>   -0.200</td> <td>   -0.066</td>\n",
       "</tr>\n",
       "</table>\n",
       "<table class=\"simpletable\">\n",
       "<tr>\n",
       "  <th>Omnibus:</th>       <td>6265.145</td> <th>  Durbin-Watson:     </th> <td>   2.004</td> \n",
       "</tr>\n",
       "<tr>\n",
       "  <th>Prob(Omnibus):</th>  <td> 0.000</td>  <th>  Jarque-Bera (JB):  </th> <td>16423.742</td>\n",
       "</tr>\n",
       "<tr>\n",
       "  <th>Skew:</th>           <td> 0.542</td>  <th>  Prob(JB):          </th> <td>    0.00</td> \n",
       "</tr>\n",
       "<tr>\n",
       "  <th>Kurtosis:</th>       <td> 5.174</td>  <th>  Cond. No.          </th> <td>    44.6</td> \n",
       "</tr>\n",
       "</table><br/><br/>Warnings:<br/>[1] Standard Errors assume that the covariance matrix of the errors is correctly specified."
      ],
      "text/plain": [
       "<class 'statsmodels.iolib.summary.Summary'>\n",
       "\"\"\"\n",
       "                            OLS Regression Results                            \n",
       "==============================================================================\n",
       "Dep. Variable:              log_price   R-squared:                       0.487\n",
       "Model:                            OLS   Adj. R-squared:                  0.487\n",
       "Method:                 Least Squares   F-statistic:                     3956.\n",
       "Date:                Fri, 06 Mar 2020   Prob (F-statistic):               0.00\n",
       "Time:                        13:03:41   Log-Likelihood:                -46962.\n",
       "No. Observations:               66760   AIC:                         9.396e+04\n",
       "Df Residuals:                   66743   BIC:                         9.411e+04\n",
       "Df Model:                          16                                         \n",
       "Covariance Type:            nonrobust                                         \n",
       "========================================================================================\n",
       "                           coef    std err          t      P>|t|      [0.025      0.975]\n",
       "----------------------------------------------------------------------------------------\n",
       "Intercept                5.1922      0.034    150.821      0.000       5.125       5.260\n",
       "number_of_reviews       -0.0268      0.003     -9.715      0.000      -0.032      -0.021\n",
       "review_scores_rating    -0.0684      0.002    -29.323      0.000      -0.073      -0.064\n",
       "bedrooms                 0.2259      0.003     84.537      0.000       0.221       0.231\n",
       "distance                -0.1372      0.003    -54.204      0.000      -0.142      -0.132\n",
       "ppl_per_room             0.0278      0.002     11.923      0.000       0.023       0.032\n",
       "House                    0.0508      0.005      9.877      0.000       0.041       0.061\n",
       "Loft                     0.1936      0.015     13.094      0.000       0.165       0.223\n",
       "Other                    0.1364      0.007     18.506      0.000       0.122       0.151\n",
       "Townhouse                0.0628      0.013      4.810      0.000       0.037       0.088\n",
       "Private_room            -0.6935      0.004   -166.911      0.000      -0.702      -0.685\n",
       "Shared_room             -1.1634      0.012    -98.731      0.000      -1.186      -1.140\n",
       "Couch                    0.0779      0.032      2.468      0.014       0.016       0.140\n",
       "Futon                   -0.0581      0.019     -3.086      0.002      -0.095      -0.021\n",
       "strict                   0.0429      0.004     10.646      0.000       0.035       0.051\n",
       "cleaning_fee            -0.0261      0.005     -5.655      0.000      -0.035      -0.017\n",
       "host_has_profile_pic    -0.1332      0.034     -3.887      0.000      -0.200      -0.066\n",
       "==============================================================================\n",
       "Omnibus:                     6265.145   Durbin-Watson:                   2.004\n",
       "Prob(Omnibus):                  0.000   Jarque-Bera (JB):            16423.742\n",
       "Skew:                           0.542   Prob(JB):                         0.00\n",
       "Kurtosis:                       5.174   Cond. No.                         44.6\n",
       "==============================================================================\n",
       "\n",
       "Warnings:\n",
       "[1] Standard Errors assume that the covariance matrix of the errors is correctly specified.\n",
       "\"\"\""
      ]
     },
     "execution_count": 33,
     "metadata": {},
     "output_type": "execute_result"
    }
   ],
   "source": [
    "X.drop(columns=['Airbed', 'Pull_out_Sofa', 'flexible', 'host_identity_verified'],inplace=True)\n",
    "f = 'log_price ~ ' + '+'.join(X.columns)\n",
    "mod = smf.ols(formula=f, data = X.join(y))\n",
    "res = mod.fit()\n",
    "res.summary()"
   ]
  },
  {
   "cell_type": "markdown",
   "metadata": {},
   "source": [
    "# Visualizations"
   ]
  },
  {
   "cell_type": "code",
   "execution_count": 34,
   "metadata": {},
   "outputs": [
    {
     "data": {
      "text/plain": [
       "0        150.0\n",
       "1        169.0\n",
       "2        145.0\n",
       "3        750.0\n",
       "4        115.0\n",
       "         ...  \n",
       "74105     70.0\n",
       "74106    100.0\n",
       "74107    155.0\n",
       "74108    185.0\n",
       "74109    195.0\n",
       "Name: log_price, Length: 66760, dtype: float64"
      ]
     },
     "execution_count": 34,
     "metadata": {},
     "output_type": "execute_result"
    }
   ],
   "source": [
    "final_df\n",
    "actual_prices = y.apply(lambda Y: np.exp(Y))"
   ]
  },
  {
   "cell_type": "code",
   "execution_count": 35,
   "metadata": {},
   "outputs": [],
   "source": [
    "df_vis = final_df.join(actual_prices)"
   ]
  },
  {
   "cell_type": "code",
   "execution_count": 37,
   "metadata": {},
   "outputs": [],
   "source": [
    "num_people = df['accommodates'].unique()"
   ]
  },
  {
   "cell_type": "code",
   "execution_count": 38,
   "metadata": {},
   "outputs": [],
   "source": [
    "num_people = sorted(num_people)"
   ]
  },
  {
   "cell_type": "code",
   "execution_count": 42,
   "metadata": {},
   "outputs": [],
   "source": [
    "probability = []\n",
    "group_probabilities = []\n",
    "responses = []\n",
    "rooms = []\n",
    "distances = []\n",
    "per_room = []\n",
    "prices = []\n",
    "bathrooms = []\n",
    "for n in num_people:\n",
    "    temp_df = df_vis[df_vis['accommodates'] == n]\n",
    "    n_y = list(temp_df['instant_bookable'].value_counts())\n",
    "    \n",
    "    group_p = len(temp_df['accommodates'])/len(final_df['accommodates'])\n",
    "    response_mean = np.mean(temp_df['host_response_rate'])\n",
    "    room_mean = np.mean(temp_df['bedrooms'])\n",
    "    distance_mean = np.mean(temp_df['distance'])\n",
    "    ppl = np.mean(temp_df['ppl_per_room'])\n",
    "    price = np.mean(temp_df['log_price'])\n",
    "    bathroom = np.mean(temp_df['bathrooms'])\n",
    "    \n",
    "    group_probabilities.append(group_p)\n",
    "    responses.append(response_mean)\n",
    "    probability.append(n_y[1]/sum(n_y))\n",
    "    rooms.append(room_mean)\n",
    "    distances.append(distance_mean)\n",
    "    per_room.append(ppl)\n",
    "    prices.append(price)\n",
    "    bathrooms.append(bathroom)\n"
   ]
  },
  {
   "cell_type": "markdown",
   "metadata": {},
   "source": [
    "### Fix"
   ]
  },
  {
   "cell_type": "code",
   "execution_count": 43,
   "metadata": {},
   "outputs": [],
   "source": [
    "chi_distances = [4.535114338084559,\n",
    "                4.152032033317386,\n",
    "                3.6008852645078613,\n",
    "                3.6241075139931658,\n",
    "                3.380424440005781,\n",
    "                3.7191416795433465,\n",
    "                3.759474050859176,\n",
    "                4.036074919146024,\n",
    "                4.520354086707857,\n",
    "                3.3944474563658797,\n",
    "                3.139857108008428,\n",
    "                3.858627542973955,\n",
    "                3.669589482591857,\n",
    "                4.1642599672180065,\n",
    "                5.559858725178525,\n",
    "                3.130400965979456]"
   ]
  },
  {
   "cell_type": "markdown",
   "metadata": {},
   "source": [
    "Clarify graphs and axis more\n",
    "'Seems like Chicago makes most of the data'"
   ]
  },
  {
   "cell_type": "code",
   "execution_count": 55,
   "metadata": {},
   "outputs": [
    {
     "data": {
      "text/plain": [
       "<matplotlib.collections.PathCollection at 0x2c6825c8c48>"
      ]
     },
     "execution_count": 55,
     "metadata": {},
     "output_type": "execute_result"
    },
    {
     "data": {
      "image/png": "[encoded data removed]",
      "text/plain": [
       "<Figure size 432x288 with 1 Axes>"
      ]
     },
     "metadata": {
      "needs_background": "light"
     },
     "output_type": "display_data"
    }
   ],
   "source": [
    "plt.scatter(df_vis['accommodates'],df_vis['log_price'])\n",
    "plt.scatter(chi_df['accommodates'],np.exp(chi_df['log_price']))"
   ]
  },
  {
   "cell_type": "code",
   "execution_count": 44,
   "metadata": {},
   "outputs": [
    {
     "data": {
      "image/png": "[encoded data removed]",
      "text/plain": [
       "<Figure size 432x288 with 1 Axes>"
      ]
     },
     "metadata": {
      "needs_background": "light"
     },
     "output_type": "display_data"
    }
   ],
   "source": [
    "\n",
    "plt.bar(num_people,distances)\n",
    "plt.bar(num_people, chi_distances, alpha=.5)\n",
    "plt.title('Average Distance from Downtown')\n",
    "plt.xlabel('Group Size')\n",
    "plt.ylabel('Distance (Miles)')\n",
    "plt.legend(['Overall', 'Chicago'])\n",
    "plt.savefig('images/distance.png')\n",
    "plt.show();"
   ]
  },
  {
   "cell_type": "markdown",
   "metadata": {},
   "source": [
    "* Chicago info\n",
    "* equal time on graphs"
   ]
  },
  {
   "cell_type": "code",
   "execution_count": 45,
   "metadata": {},
   "outputs": [],
   "source": [
    "chi_prices = [62.85652173913044,\n",
    "             83.02415812591508,\n",
    "             111.99675324675324,\n",
    "             137.48458149779736,\n",
    "             163.38425925925927,\n",
    "             209.43304843304844,\n",
    "             211.11320754716985,\n",
    "             224.08130081300817,\n",
    "             287.18181818181824,\n",
    "             252.46153846153842,\n",
    "             198.99999999999997,\n",
    "             303.83333333333326,\n",
    "             337.0000000000002,\n",
    "             292.50000000000006,\n",
    "             0.0,\n",
    "             481.1111111111108]"
   ]
  },
  {
   "cell_type": "code",
   "execution_count": 47,
   "metadata": {},
   "outputs": [],
   "source": [
    "chi_probability = [0.06470746832030197,\n",
    "                   0.3817740630897816,\n",
    "                   0.08627662442706929,\n",
    "                   0.19034780264222162,\n",
    "                   0.06093286600161769,\n",
    "                   0.11081153949851712,\n",
    "                   0.0159072526287409,\n",
    "                   0.04259908331086546,\n",
    "                   0.004044216770018873,\n",
    "                   0.022377999460771097,\n",
    "                   0.0010784578053383662,\n",
    "                   0.0067403612833647885,\n",
    "                   0.0018873011593421407,\n",
    "                   0.0032353734160150984,\n",
    "                   0.0010784578053383662,\n",
    "                   0.006201132380695605]"
   ]
  },
  {
   "cell_type": "code",
   "execution_count": 48,
   "metadata": {},
   "outputs": [
    {
     "data": {
      "image/png": "[encoded data removed]",
      "text/plain": [
       "<Figure size 432x288 with 1 Axes>"
      ]
     },
     "metadata": {
      "needs_background": "light"
     },
     "output_type": "display_data"
    }
   ],
   "source": [
    "plt.bar(num_people, group_probabilities)\n",
    "plt.bar(num_people, chi_probability, alpha=0.5)\n",
    "plt.title('Group Size Probability')\n",
    "plt.xlabel('Group Size')\n",
    "plt.ylabel('Probability')\n",
    "plt.legend(['Overall', 'Chicago'])\n",
    "plt.savefig('images/group_size_p.png')\n",
    "plt.show();"
   ]
  },
  {
   "cell_type": "code",
   "execution_count": 49,
   "metadata": {},
   "outputs": [
    {
     "data": {
      "text/plain": [
       "150.43873576992212"
      ]
     },
     "execution_count": 49,
     "metadata": {},
     "output_type": "execute_result"
    }
   ],
   "source": [
    "np.mean(df_vis['log_price'])"
   ]
  },
  {
   "cell_type": "code",
   "execution_count": null,
   "metadata": {},
   "outputs": [],
   "source": []
  }
 ],
 "metadata": {
  "kernelspec": {
   "display_name": "Python 3",
   "language": "python",
   "name": "python3"
  },
  "language_info": {
   "codemirror_mode": {
    "name": "ipython",
    "version": 3
   },
   "file_extension": ".py",
   "mimetype": "text/x-python",
   "name": "python",
   "nbconvert_exporter": "python",
   "pygments_lexer": "ipython3",
   "version": "3.7.4"
  }
 },
 "nbformat": 4,
 "nbformat_minor": 4
}
